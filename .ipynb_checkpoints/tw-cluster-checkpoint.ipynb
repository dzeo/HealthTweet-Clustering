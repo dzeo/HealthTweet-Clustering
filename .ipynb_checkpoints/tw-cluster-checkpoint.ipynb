{
 "cells": [
  {
   "cell_type": "markdown",
   "metadata": {},
   "source": [
    "# Twitter Data Set On Health News"
   ]
  },
  {
   "cell_type": "markdown",
   "metadata": {},
   "source": [
    "## Data Analytics Project\n"
   ]
  },
  {
   "cell_type": "markdown",
   "metadata": {},
   "source": [
    "### Import the necessary libraries"
   ]
  },
  {
   "cell_type": "code",
   "execution_count": 1,
   "metadata": {},
   "outputs": [],
   "source": [
    "import numpy as np\n",
    "import pandas as pd\n",
    "import os\n",
    "import glob\n",
    "import re\n",
    "import string\n",
    "from nltk.tokenize import word_tokenize\n",
    "from nltk.corpus import stopwords\n",
    "import pickle\n",
    "import matplotlib.pyplot as plt\n",
    "import seaborn as sns\n",
    "import nltk\n",
    "from nltk.stem.porter import PorterStemmer\n",
    "from nltk.stem.wordnet import WordNetLemmatizer\n",
    "from wordcloud import WordCloud\n",
    "from sklearn.cluster import KMeans\n",
    "from sklearn.feature_extraction.text import TfidfVectorizer as tfi\n",
    "from sklearn.decomposition import PCA\n",
    "from sklearn.preprocessing import normalize\n",
    "from sklearn.metrics import pairwise_distances\n"
   ]
  },
  {
   "cell_type": "markdown",
   "metadata": {},
   "source": [
    "### Reading in the dataset"
   ]
  },
  {
   "cell_type": "code",
   "execution_count": 2,
   "metadata": {},
   "outputs": [
    {
     "data": {
      "text/html": [
       "<div>\n",
       "<style scoped>\n",
       "    .dataframe tbody tr th:only-of-type {\n",
       "        vertical-align: middle;\n",
       "    }\n",
       "\n",
       "    .dataframe tbody tr th {\n",
       "        vertical-align: top;\n",
       "    }\n",
       "\n",
       "    .dataframe thead th {\n",
       "        text-align: right;\n",
       "    }\n",
       "</style>\n",
       "<table border=\"1\" class=\"dataframe\">\n",
       "  <thead>\n",
       "    <tr style=\"text-align: right;\">\n",
       "      <th></th>\n",
       "      <th>TweetID</th>\n",
       "      <th>Date_Time</th>\n",
       "      <th>RawTweet</th>\n",
       "      <th>Source</th>\n",
       "    </tr>\n",
       "  </thead>\n",
       "  <tbody>\n",
       "    <tr>\n",
       "      <th>0</th>\n",
       "      <td>585978391360221184</td>\n",
       "      <td>Thu Apr 09 01:31:50 +0000 2015</td>\n",
       "      <td>Breast cancer risk test devised http://bbc.in/...</td>\n",
       "      <td>bbchealth</td>\n",
       "    </tr>\n",
       "    <tr>\n",
       "      <th>1</th>\n",
       "      <td>585947808772960257</td>\n",
       "      <td>Wed Apr 08 23:30:18 +0000 2015</td>\n",
       "      <td>GP workload harming care - BMA poll http://bbc...</td>\n",
       "      <td>bbchealth</td>\n",
       "    </tr>\n",
       "    <tr>\n",
       "      <th>2</th>\n",
       "      <td>585947807816650752</td>\n",
       "      <td>Wed Apr 08 23:30:18 +0000 2015</td>\n",
       "      <td>Short people's 'heart risk greater' http://bbc...</td>\n",
       "      <td>bbchealth</td>\n",
       "    </tr>\n",
       "    <tr>\n",
       "      <th>3</th>\n",
       "      <td>585866060991078401</td>\n",
       "      <td>Wed Apr 08 18:05:28 +0000 2015</td>\n",
       "      <td>New approach against HIV 'promising' http://bb...</td>\n",
       "      <td>bbchealth</td>\n",
       "    </tr>\n",
       "    <tr>\n",
       "      <th>4</th>\n",
       "      <td>585794106170839041</td>\n",
       "      <td>Wed Apr 08 13:19:33 +0000 2015</td>\n",
       "      <td>Coalition 'undermined NHS' - doctors http://bb...</td>\n",
       "      <td>bbchealth</td>\n",
       "    </tr>\n",
       "    <tr>\n",
       "      <th>...</th>\n",
       "      <td>...</td>\n",
       "      <td>...</td>\n",
       "      <td>...</td>\n",
       "      <td>...</td>\n",
       "    </tr>\n",
       "    <tr>\n",
       "      <th>63023</th>\n",
       "      <td>415494259022655489</td>\n",
       "      <td>Tue Dec 24 14:48:45 +0000 2013</td>\n",
       "      <td>RT @stefaniei: Addiction and the brain: scient...</td>\n",
       "      <td>wsjhealth</td>\n",
       "    </tr>\n",
       "    <tr>\n",
       "      <th>63024</th>\n",
       "      <td>415493351396233216</td>\n",
       "      <td>Tue Dec 24 14:45:09 +0000 2013</td>\n",
       "      <td>RT @timothywmartin: Ho-ho-hold up! A surprise ...</td>\n",
       "      <td>wsjhealth</td>\n",
       "    </tr>\n",
       "    <tr>\n",
       "      <th>63025</th>\n",
       "      <td>415493203983204352</td>\n",
       "      <td>Tue Dec 24 14:44:33 +0000 2013</td>\n",
       "      <td>RT @stefaniei: Health-Insurance Deadline Exten...</td>\n",
       "      <td>wsjhealth</td>\n",
       "    </tr>\n",
       "    <tr>\n",
       "      <th>63026</th>\n",
       "      <td>415386956420231169</td>\n",
       "      <td>Tue Dec 24 07:42:22 +0000 2013</td>\n",
       "      <td>Boston Scientific Eyes China Expansion http://...</td>\n",
       "      <td>wsjhealth</td>\n",
       "    </tr>\n",
       "    <tr>\n",
       "      <th>63027</th>\n",
       "      <td>415361763362603008</td>\n",
       "      <td>Tue Dec 24 06:02:16 +0000 2013</td>\n",
       "      <td>For Desperate Family in India, a Ray of Hope F...</td>\n",
       "      <td>wsjhealth</td>\n",
       "    </tr>\n",
       "  </tbody>\n",
       "</table>\n",
       "<p>63028 rows × 4 columns</p>\n",
       "</div>"
      ],
      "text/plain": [
       "                  TweetID                       Date_Time  \\\n",
       "0      585978391360221184  Thu Apr 09 01:31:50 +0000 2015   \n",
       "1      585947808772960257  Wed Apr 08 23:30:18 +0000 2015   \n",
       "2      585947807816650752  Wed Apr 08 23:30:18 +0000 2015   \n",
       "3      585866060991078401  Wed Apr 08 18:05:28 +0000 2015   \n",
       "4      585794106170839041  Wed Apr 08 13:19:33 +0000 2015   \n",
       "...                   ...                             ...   \n",
       "63023  415494259022655489  Tue Dec 24 14:48:45 +0000 2013   \n",
       "63024  415493351396233216  Tue Dec 24 14:45:09 +0000 2013   \n",
       "63025  415493203983204352  Tue Dec 24 14:44:33 +0000 2013   \n",
       "63026  415386956420231169  Tue Dec 24 07:42:22 +0000 2013   \n",
       "63027  415361763362603008  Tue Dec 24 06:02:16 +0000 2013   \n",
       "\n",
       "                                                RawTweet     Source  \n",
       "0      Breast cancer risk test devised http://bbc.in/...  bbchealth  \n",
       "1      GP workload harming care - BMA poll http://bbc...  bbchealth  \n",
       "2      Short people's 'heart risk greater' http://bbc...  bbchealth  \n",
       "3      New approach against HIV 'promising' http://bb...  bbchealth  \n",
       "4      Coalition 'undermined NHS' - doctors http://bb...  bbchealth  \n",
       "...                                                  ...        ...  \n",
       "63023  RT @stefaniei: Addiction and the brain: scient...  wsjhealth  \n",
       "63024  RT @timothywmartin: Ho-ho-hold up! A surprise ...  wsjhealth  \n",
       "63025  RT @stefaniei: Health-Insurance Deadline Exten...  wsjhealth  \n",
       "63026  Boston Scientific Eyes China Expansion http://...  wsjhealth  \n",
       "63027  For Desperate Family in India, a Ray of Hope F...  wsjhealth  \n",
       "\n",
       "[63028 rows x 4 columns]"
      ]
     },
     "execution_count": 2,
     "metadata": {},
     "output_type": "execute_result"
    }
   ],
   "source": [
    "path = 'Health-Tweets/'\n",
    "txt_files = glob.glob(os.path.join(path, \"*.txt\"))\n",
    "\n",
    "# loop over the list of txt files\n",
    "col_names = [\"TweetID\", \"Date_Time\", \"RawTweet\"]\n",
    "tot_df = pd.DataFrame(columns=col_names)\n",
    "for f in txt_files:\n",
    "    df = pd.read_csv(f, sep=\"|\", names=col_names, encoding=\"mbcs\")\n",
    "    f_name=f.split(\"\\\\\")[-1]\n",
    "    f_name=f_name.split(\".\")[0]\n",
    "    df['Source']= f_name\n",
    "    tot_df = pd.concat([tot_df, df], ignore_index=True)\n",
    "\n",
    "tot_df"
   ]
  },
  {
   "cell_type": "markdown",
   "metadata": {},
   "source": [
    "## Manipulating Columns"
   ]
  },
  {
   "cell_type": "code",
   "execution_count": 3,
   "metadata": {},
   "outputs": [],
   "source": [
    "#Reformatting the date and time\n",
    "tot_df[\"Date_Time\"] =  pd.to_datetime(tot_df[\"Date_Time\"])\n",
    "tot_df['year']=tot_df['Date_Time'].dt.year\n",
    "\n",
    "\n",
    "# tot_df = tot_df.drop(['Tweet','TunedTweet','Links'], axis=1)\n",
    "# tot_df"
   ]
  },
  {
   "cell_type": "code",
   "execution_count": 4,
   "metadata": {},
   "outputs": [
    {
     "data": {
      "text/html": [
       "<div>\n",
       "<style scoped>\n",
       "    .dataframe tbody tr th:only-of-type {\n",
       "        vertical-align: middle;\n",
       "    }\n",
       "\n",
       "    .dataframe tbody tr th {\n",
       "        vertical-align: top;\n",
       "    }\n",
       "\n",
       "    .dataframe thead th {\n",
       "        text-align: right;\n",
       "    }\n",
       "</style>\n",
       "<table border=\"1\" class=\"dataframe\">\n",
       "  <thead>\n",
       "    <tr style=\"text-align: right;\">\n",
       "      <th></th>\n",
       "      <th>TweetID</th>\n",
       "      <th>Date_Time</th>\n",
       "      <th>RawTweet</th>\n",
       "      <th>Source</th>\n",
       "      <th>year</th>\n",
       "      <th>Links</th>\n",
       "    </tr>\n",
       "  </thead>\n",
       "  <tbody>\n",
       "    <tr>\n",
       "      <th>0</th>\n",
       "      <td>585978391360221184</td>\n",
       "      <td>2015-04-09 01:31:50+00:00</td>\n",
       "      <td>Breast cancer risk test devised http://bbc.in/...</td>\n",
       "      <td>bbchealth</td>\n",
       "      <td>2015</td>\n",
       "      <td>http://bbc.in/1CimpJF</td>\n",
       "    </tr>\n",
       "    <tr>\n",
       "      <th>1</th>\n",
       "      <td>585947808772960257</td>\n",
       "      <td>2015-04-08 23:30:18+00:00</td>\n",
       "      <td>GP workload harming care - BMA poll http://bbc...</td>\n",
       "      <td>bbchealth</td>\n",
       "      <td>2015</td>\n",
       "      <td>http://bbc.in/1ChTBRv</td>\n",
       "    </tr>\n",
       "    <tr>\n",
       "      <th>2</th>\n",
       "      <td>585947807816650752</td>\n",
       "      <td>2015-04-08 23:30:18+00:00</td>\n",
       "      <td>Short people's 'heart risk greater' http://bbc...</td>\n",
       "      <td>bbchealth</td>\n",
       "      <td>2015</td>\n",
       "      <td>http://bbc.in/1ChTANp</td>\n",
       "    </tr>\n",
       "    <tr>\n",
       "      <th>3</th>\n",
       "      <td>585866060991078401</td>\n",
       "      <td>2015-04-08 18:05:28+00:00</td>\n",
       "      <td>New approach against HIV 'promising' http://bb...</td>\n",
       "      <td>bbchealth</td>\n",
       "      <td>2015</td>\n",
       "      <td>http://bbc.in/1E6jAjt</td>\n",
       "    </tr>\n",
       "    <tr>\n",
       "      <th>4</th>\n",
       "      <td>585794106170839041</td>\n",
       "      <td>2015-04-08 13:19:33+00:00</td>\n",
       "      <td>Coalition 'undermined NHS' - doctors http://bb...</td>\n",
       "      <td>bbchealth</td>\n",
       "      <td>2015</td>\n",
       "      <td>http://bbc.in/1CnLwK7</td>\n",
       "    </tr>\n",
       "    <tr>\n",
       "      <th>...</th>\n",
       "      <td>...</td>\n",
       "      <td>...</td>\n",
       "      <td>...</td>\n",
       "      <td>...</td>\n",
       "      <td>...</td>\n",
       "      <td>...</td>\n",
       "    </tr>\n",
       "    <tr>\n",
       "      <th>63023</th>\n",
       "      <td>415494259022655489</td>\n",
       "      <td>2013-12-24 14:48:45+00:00</td>\n",
       "      <td>RT @stefaniei: Addiction and the brain: scient...</td>\n",
       "      <td>wsjhealth</td>\n",
       "      <td>2013</td>\n",
       "      <td>http://t.co/ThMd9T…</td>\n",
       "    </tr>\n",
       "    <tr>\n",
       "      <th>63024</th>\n",
       "      <td>415493351396233216</td>\n",
       "      <td>2013-12-24 14:45:09+00:00</td>\n",
       "      <td>RT @timothywmartin: Ho-ho-hold up! A surprise ...</td>\n",
       "      <td>wsjhealth</td>\n",
       "      <td>2013</td>\n",
       "      <td></td>\n",
       "    </tr>\n",
       "    <tr>\n",
       "      <th>63025</th>\n",
       "      <td>415493203983204352</td>\n",
       "      <td>2013-12-24 14:44:33+00:00</td>\n",
       "      <td>RT @stefaniei: Health-Insurance Deadline Exten...</td>\n",
       "      <td>wsjhealth</td>\n",
       "      <td>2013</td>\n",
       "      <td>http://on.wsj.com/1cOFtBT</td>\n",
       "    </tr>\n",
       "    <tr>\n",
       "      <th>63026</th>\n",
       "      <td>415386956420231169</td>\n",
       "      <td>2013-12-24 07:42:22+00:00</td>\n",
       "      <td>Boston Scientific Eyes China Expansion http://...</td>\n",
       "      <td>wsjhealth</td>\n",
       "      <td>2013</td>\n",
       "      <td>http://on.wsj.com/1kBRC4a</td>\n",
       "    </tr>\n",
       "    <tr>\n",
       "      <th>63027</th>\n",
       "      <td>415361763362603008</td>\n",
       "      <td>2013-12-24 06:02:16+00:00</td>\n",
       "      <td>For Desperate Family in India, a Ray of Hope F...</td>\n",
       "      <td>wsjhealth</td>\n",
       "      <td>2013</td>\n",
       "      <td>http://on.wsj.com/1kBFgsB</td>\n",
       "    </tr>\n",
       "  </tbody>\n",
       "</table>\n",
       "<p>63028 rows × 6 columns</p>\n",
       "</div>"
      ],
      "text/plain": [
       "                  TweetID                 Date_Time  \\\n",
       "0      585978391360221184 2015-04-09 01:31:50+00:00   \n",
       "1      585947808772960257 2015-04-08 23:30:18+00:00   \n",
       "2      585947807816650752 2015-04-08 23:30:18+00:00   \n",
       "3      585866060991078401 2015-04-08 18:05:28+00:00   \n",
       "4      585794106170839041 2015-04-08 13:19:33+00:00   \n",
       "...                   ...                       ...   \n",
       "63023  415494259022655489 2013-12-24 14:48:45+00:00   \n",
       "63024  415493351396233216 2013-12-24 14:45:09+00:00   \n",
       "63025  415493203983204352 2013-12-24 14:44:33+00:00   \n",
       "63026  415386956420231169 2013-12-24 07:42:22+00:00   \n",
       "63027  415361763362603008 2013-12-24 06:02:16+00:00   \n",
       "\n",
       "                                                RawTweet     Source  year  \\\n",
       "0      Breast cancer risk test devised http://bbc.in/...  bbchealth  2015   \n",
       "1      GP workload harming care - BMA poll http://bbc...  bbchealth  2015   \n",
       "2      Short people's 'heart risk greater' http://bbc...  bbchealth  2015   \n",
       "3      New approach against HIV 'promising' http://bb...  bbchealth  2015   \n",
       "4      Coalition 'undermined NHS' - doctors http://bb...  bbchealth  2015   \n",
       "...                                                  ...        ...   ...   \n",
       "63023  RT @stefaniei: Addiction and the brain: scient...  wsjhealth  2013   \n",
       "63024  RT @timothywmartin: Ho-ho-hold up! A surprise ...  wsjhealth  2013   \n",
       "63025  RT @stefaniei: Health-Insurance Deadline Exten...  wsjhealth  2013   \n",
       "63026  Boston Scientific Eyes China Expansion http://...  wsjhealth  2013   \n",
       "63027  For Desperate Family in India, a Ray of Hope F...  wsjhealth  2013   \n",
       "\n",
       "                           Links  \n",
       "0          http://bbc.in/1CimpJF  \n",
       "1          http://bbc.in/1ChTBRv  \n",
       "2          http://bbc.in/1ChTANp  \n",
       "3          http://bbc.in/1E6jAjt  \n",
       "4          http://bbc.in/1CnLwK7  \n",
       "...                          ...  \n",
       "63023        http://t.co/ThMd9T…  \n",
       "63024                             \n",
       "63025  http://on.wsj.com/1cOFtBT  \n",
       "63026  http://on.wsj.com/1kBRC4a  \n",
       "63027  http://on.wsj.com/1kBFgsB  \n",
       "\n",
       "[63028 rows x 6 columns]"
      ]
     },
     "execution_count": 4,
     "metadata": {},
     "output_type": "execute_result"
    }
   ],
   "source": [
    "#Extracting links from the raw tweets\n",
    "tot_df['Links']= tot_df['RawTweet'].apply(lambda x: (','.join(re.findall(r'(https?://\\S+)', x))))\n",
    "tot_df"
   ]
  },
  {
   "cell_type": "code",
   "execution_count": 5,
   "metadata": {},
   "outputs": [
    {
     "data": {
      "text/html": [
       "<div>\n",
       "<style scoped>\n",
       "    .dataframe tbody tr th:only-of-type {\n",
       "        vertical-align: middle;\n",
       "    }\n",
       "\n",
       "    .dataframe tbody tr th {\n",
       "        vertical-align: top;\n",
       "    }\n",
       "\n",
       "    .dataframe thead th {\n",
       "        text-align: right;\n",
       "    }\n",
       "</style>\n",
       "<table border=\"1\" class=\"dataframe\">\n",
       "  <thead>\n",
       "    <tr style=\"text-align: right;\">\n",
       "      <th></th>\n",
       "      <th>TweetID</th>\n",
       "      <th>Date_Time</th>\n",
       "      <th>RawTweet</th>\n",
       "      <th>Source</th>\n",
       "      <th>year</th>\n",
       "      <th>Links</th>\n",
       "      <th>Hashtags</th>\n",
       "    </tr>\n",
       "  </thead>\n",
       "  <tbody>\n",
       "    <tr>\n",
       "      <th>0</th>\n",
       "      <td>585978391360221184</td>\n",
       "      <td>2015-04-09 01:31:50+00:00</td>\n",
       "      <td>Breast cancer risk test devised http://bbc.in/...</td>\n",
       "      <td>bbchealth</td>\n",
       "      <td>2015</td>\n",
       "      <td>http://bbc.in/1CimpJF</td>\n",
       "      <td>[]</td>\n",
       "    </tr>\n",
       "    <tr>\n",
       "      <th>1</th>\n",
       "      <td>585947808772960257</td>\n",
       "      <td>2015-04-08 23:30:18+00:00</td>\n",
       "      <td>GP workload harming care - BMA poll http://bbc...</td>\n",
       "      <td>bbchealth</td>\n",
       "      <td>2015</td>\n",
       "      <td>http://bbc.in/1ChTBRv</td>\n",
       "      <td>[]</td>\n",
       "    </tr>\n",
       "    <tr>\n",
       "      <th>2</th>\n",
       "      <td>585947807816650752</td>\n",
       "      <td>2015-04-08 23:30:18+00:00</td>\n",
       "      <td>Short people's 'heart risk greater' http://bbc...</td>\n",
       "      <td>bbchealth</td>\n",
       "      <td>2015</td>\n",
       "      <td>http://bbc.in/1ChTANp</td>\n",
       "      <td>[]</td>\n",
       "    </tr>\n",
       "    <tr>\n",
       "      <th>3</th>\n",
       "      <td>585866060991078401</td>\n",
       "      <td>2015-04-08 18:05:28+00:00</td>\n",
       "      <td>New approach against HIV 'promising' http://bb...</td>\n",
       "      <td>bbchealth</td>\n",
       "      <td>2015</td>\n",
       "      <td>http://bbc.in/1E6jAjt</td>\n",
       "      <td>[]</td>\n",
       "    </tr>\n",
       "    <tr>\n",
       "      <th>4</th>\n",
       "      <td>585794106170839041</td>\n",
       "      <td>2015-04-08 13:19:33+00:00</td>\n",
       "      <td>Coalition 'undermined NHS' - doctors http://bb...</td>\n",
       "      <td>bbchealth</td>\n",
       "      <td>2015</td>\n",
       "      <td>http://bbc.in/1CnLwK7</td>\n",
       "      <td>[]</td>\n",
       "    </tr>\n",
       "    <tr>\n",
       "      <th>...</th>\n",
       "      <td>...</td>\n",
       "      <td>...</td>\n",
       "      <td>...</td>\n",
       "      <td>...</td>\n",
       "      <td>...</td>\n",
       "      <td>...</td>\n",
       "      <td>...</td>\n",
       "    </tr>\n",
       "    <tr>\n",
       "      <th>63023</th>\n",
       "      <td>415494259022655489</td>\n",
       "      <td>2013-12-24 14:48:45+00:00</td>\n",
       "      <td>RT @stefaniei: Addiction and the brain: scient...</td>\n",
       "      <td>wsjhealth</td>\n",
       "      <td>2013</td>\n",
       "      <td>http://t.co/ThMd9T…</td>\n",
       "      <td>[]</td>\n",
       "    </tr>\n",
       "    <tr>\n",
       "      <th>63024</th>\n",
       "      <td>415493351396233216</td>\n",
       "      <td>2013-12-24 14:45:09+00:00</td>\n",
       "      <td>RT @timothywmartin: Ho-ho-hold up! A surprise ...</td>\n",
       "      <td>wsjhealth</td>\n",
       "      <td>2013</td>\n",
       "      <td></td>\n",
       "      <td>[#aca]</td>\n",
       "    </tr>\n",
       "    <tr>\n",
       "      <th>63025</th>\n",
       "      <td>415493203983204352</td>\n",
       "      <td>2013-12-24 14:44:33+00:00</td>\n",
       "      <td>RT @stefaniei: Health-Insurance Deadline Exten...</td>\n",
       "      <td>wsjhealth</td>\n",
       "      <td>2013</td>\n",
       "      <td>http://on.wsj.com/1cOFtBT</td>\n",
       "      <td>[]</td>\n",
       "    </tr>\n",
       "    <tr>\n",
       "      <th>63026</th>\n",
       "      <td>415386956420231169</td>\n",
       "      <td>2013-12-24 07:42:22+00:00</td>\n",
       "      <td>Boston Scientific Eyes China Expansion http://...</td>\n",
       "      <td>wsjhealth</td>\n",
       "      <td>2013</td>\n",
       "      <td>http://on.wsj.com/1kBRC4a</td>\n",
       "      <td>[]</td>\n",
       "    </tr>\n",
       "    <tr>\n",
       "      <th>63027</th>\n",
       "      <td>415361763362603008</td>\n",
       "      <td>2013-12-24 06:02:16+00:00</td>\n",
       "      <td>For Desperate Family in India, a Ray of Hope F...</td>\n",
       "      <td>wsjhealth</td>\n",
       "      <td>2013</td>\n",
       "      <td>http://on.wsj.com/1kBFgsB</td>\n",
       "      <td>[]</td>\n",
       "    </tr>\n",
       "  </tbody>\n",
       "</table>\n",
       "<p>63028 rows × 7 columns</p>\n",
       "</div>"
      ],
      "text/plain": [
       "                  TweetID                 Date_Time  \\\n",
       "0      585978391360221184 2015-04-09 01:31:50+00:00   \n",
       "1      585947808772960257 2015-04-08 23:30:18+00:00   \n",
       "2      585947807816650752 2015-04-08 23:30:18+00:00   \n",
       "3      585866060991078401 2015-04-08 18:05:28+00:00   \n",
       "4      585794106170839041 2015-04-08 13:19:33+00:00   \n",
       "...                   ...                       ...   \n",
       "63023  415494259022655489 2013-12-24 14:48:45+00:00   \n",
       "63024  415493351396233216 2013-12-24 14:45:09+00:00   \n",
       "63025  415493203983204352 2013-12-24 14:44:33+00:00   \n",
       "63026  415386956420231169 2013-12-24 07:42:22+00:00   \n",
       "63027  415361763362603008 2013-12-24 06:02:16+00:00   \n",
       "\n",
       "                                                RawTweet     Source  year  \\\n",
       "0      Breast cancer risk test devised http://bbc.in/...  bbchealth  2015   \n",
       "1      GP workload harming care - BMA poll http://bbc...  bbchealth  2015   \n",
       "2      Short people's 'heart risk greater' http://bbc...  bbchealth  2015   \n",
       "3      New approach against HIV 'promising' http://bb...  bbchealth  2015   \n",
       "4      Coalition 'undermined NHS' - doctors http://bb...  bbchealth  2015   \n",
       "...                                                  ...        ...   ...   \n",
       "63023  RT @stefaniei: Addiction and the brain: scient...  wsjhealth  2013   \n",
       "63024  RT @timothywmartin: Ho-ho-hold up! A surprise ...  wsjhealth  2013   \n",
       "63025  RT @stefaniei: Health-Insurance Deadline Exten...  wsjhealth  2013   \n",
       "63026  Boston Scientific Eyes China Expansion http://...  wsjhealth  2013   \n",
       "63027  For Desperate Family in India, a Ray of Hope F...  wsjhealth  2013   \n",
       "\n",
       "                           Links Hashtags  \n",
       "0          http://bbc.in/1CimpJF       []  \n",
       "1          http://bbc.in/1ChTBRv       []  \n",
       "2          http://bbc.in/1ChTANp       []  \n",
       "3          http://bbc.in/1E6jAjt       []  \n",
       "4          http://bbc.in/1CnLwK7       []  \n",
       "...                          ...      ...  \n",
       "63023        http://t.co/ThMd9T…       []  \n",
       "63024                              [#aca]  \n",
       "63025  http://on.wsj.com/1cOFtBT       []  \n",
       "63026  http://on.wsj.com/1kBRC4a       []  \n",
       "63027  http://on.wsj.com/1kBFgsB       []  \n",
       "\n",
       "[63028 rows x 7 columns]"
      ]
     },
     "execution_count": 5,
     "metadata": {},
     "output_type": "execute_result"
    }
   ],
   "source": [
    "#Extracting hashtags from the raw tweets\n",
    "tot_df['Hashtags']= tot_df['RawTweet'].apply(lambda x: re.findall('(#\\w+)', x.lower()))\n",
    "tot_df"
   ]
  },
  {
   "cell_type": "code",
   "execution_count": 6,
   "metadata": {},
   "outputs": [
    {
     "data": {
      "text/html": [
       "<div>\n",
       "<style scoped>\n",
       "    .dataframe tbody tr th:only-of-type {\n",
       "        vertical-align: middle;\n",
       "    }\n",
       "\n",
       "    .dataframe tbody tr th {\n",
       "        vertical-align: top;\n",
       "    }\n",
       "\n",
       "    .dataframe thead th {\n",
       "        text-align: right;\n",
       "    }\n",
       "</style>\n",
       "<table border=\"1\" class=\"dataframe\">\n",
       "  <thead>\n",
       "    <tr style=\"text-align: right;\">\n",
       "      <th></th>\n",
       "      <th>TweetID</th>\n",
       "      <th>Date_Time</th>\n",
       "      <th>RawTweet</th>\n",
       "      <th>Source</th>\n",
       "      <th>year</th>\n",
       "      <th>Links</th>\n",
       "      <th>Hashtags</th>\n",
       "      <th>UserMention</th>\n",
       "    </tr>\n",
       "  </thead>\n",
       "  <tbody>\n",
       "    <tr>\n",
       "      <th>0</th>\n",
       "      <td>585978391360221184</td>\n",
       "      <td>2015-04-09 01:31:50+00:00</td>\n",
       "      <td>Breast cancer risk test devised http://bbc.in/...</td>\n",
       "      <td>bbchealth</td>\n",
       "      <td>2015</td>\n",
       "      <td>http://bbc.in/1CimpJF</td>\n",
       "      <td>[]</td>\n",
       "      <td>[]</td>\n",
       "    </tr>\n",
       "    <tr>\n",
       "      <th>1</th>\n",
       "      <td>585947808772960257</td>\n",
       "      <td>2015-04-08 23:30:18+00:00</td>\n",
       "      <td>GP workload harming care - BMA poll http://bbc...</td>\n",
       "      <td>bbchealth</td>\n",
       "      <td>2015</td>\n",
       "      <td>http://bbc.in/1ChTBRv</td>\n",
       "      <td>[]</td>\n",
       "      <td>[]</td>\n",
       "    </tr>\n",
       "    <tr>\n",
       "      <th>2</th>\n",
       "      <td>585947807816650752</td>\n",
       "      <td>2015-04-08 23:30:18+00:00</td>\n",
       "      <td>Short people's 'heart risk greater' http://bbc...</td>\n",
       "      <td>bbchealth</td>\n",
       "      <td>2015</td>\n",
       "      <td>http://bbc.in/1ChTANp</td>\n",
       "      <td>[]</td>\n",
       "      <td>[]</td>\n",
       "    </tr>\n",
       "    <tr>\n",
       "      <th>3</th>\n",
       "      <td>585866060991078401</td>\n",
       "      <td>2015-04-08 18:05:28+00:00</td>\n",
       "      <td>New approach against HIV 'promising' http://bb...</td>\n",
       "      <td>bbchealth</td>\n",
       "      <td>2015</td>\n",
       "      <td>http://bbc.in/1E6jAjt</td>\n",
       "      <td>[]</td>\n",
       "      <td>[]</td>\n",
       "    </tr>\n",
       "    <tr>\n",
       "      <th>4</th>\n",
       "      <td>585794106170839041</td>\n",
       "      <td>2015-04-08 13:19:33+00:00</td>\n",
       "      <td>Coalition 'undermined NHS' - doctors http://bb...</td>\n",
       "      <td>bbchealth</td>\n",
       "      <td>2015</td>\n",
       "      <td>http://bbc.in/1CnLwK7</td>\n",
       "      <td>[]</td>\n",
       "      <td>[]</td>\n",
       "    </tr>\n",
       "    <tr>\n",
       "      <th>...</th>\n",
       "      <td>...</td>\n",
       "      <td>...</td>\n",
       "      <td>...</td>\n",
       "      <td>...</td>\n",
       "      <td>...</td>\n",
       "      <td>...</td>\n",
       "      <td>...</td>\n",
       "      <td>...</td>\n",
       "    </tr>\n",
       "    <tr>\n",
       "      <th>63023</th>\n",
       "      <td>415494259022655489</td>\n",
       "      <td>2013-12-24 14:48:45+00:00</td>\n",
       "      <td>RT @stefaniei: Addiction and the brain: scient...</td>\n",
       "      <td>wsjhealth</td>\n",
       "      <td>2013</td>\n",
       "      <td>http://t.co/ThMd9T…</td>\n",
       "      <td>[]</td>\n",
       "      <td>[@stefaniei]</td>\n",
       "    </tr>\n",
       "    <tr>\n",
       "      <th>63024</th>\n",
       "      <td>415493351396233216</td>\n",
       "      <td>2013-12-24 14:45:09+00:00</td>\n",
       "      <td>RT @timothywmartin: Ho-ho-hold up! A surprise ...</td>\n",
       "      <td>wsjhealth</td>\n",
       "      <td>2013</td>\n",
       "      <td></td>\n",
       "      <td>[#aca]</td>\n",
       "      <td>[@timothywmartin, @cdweaver]</td>\n",
       "    </tr>\n",
       "    <tr>\n",
       "      <th>63025</th>\n",
       "      <td>415493203983204352</td>\n",
       "      <td>2013-12-24 14:44:33+00:00</td>\n",
       "      <td>RT @stefaniei: Health-Insurance Deadline Exten...</td>\n",
       "      <td>wsjhealth</td>\n",
       "      <td>2013</td>\n",
       "      <td>http://on.wsj.com/1cOFtBT</td>\n",
       "      <td>[]</td>\n",
       "      <td>[@stefaniei, @cdweaver, @timothywmartin]</td>\n",
       "    </tr>\n",
       "    <tr>\n",
       "      <th>63026</th>\n",
       "      <td>415386956420231169</td>\n",
       "      <td>2013-12-24 07:42:22+00:00</td>\n",
       "      <td>Boston Scientific Eyes China Expansion http://...</td>\n",
       "      <td>wsjhealth</td>\n",
       "      <td>2013</td>\n",
       "      <td>http://on.wsj.com/1kBRC4a</td>\n",
       "      <td>[]</td>\n",
       "      <td>[]</td>\n",
       "    </tr>\n",
       "    <tr>\n",
       "      <th>63027</th>\n",
       "      <td>415361763362603008</td>\n",
       "      <td>2013-12-24 06:02:16+00:00</td>\n",
       "      <td>For Desperate Family in India, a Ray of Hope F...</td>\n",
       "      <td>wsjhealth</td>\n",
       "      <td>2013</td>\n",
       "      <td>http://on.wsj.com/1kBFgsB</td>\n",
       "      <td>[]</td>\n",
       "      <td>[]</td>\n",
       "    </tr>\n",
       "  </tbody>\n",
       "</table>\n",
       "<p>63028 rows × 8 columns</p>\n",
       "</div>"
      ],
      "text/plain": [
       "                  TweetID                 Date_Time  \\\n",
       "0      585978391360221184 2015-04-09 01:31:50+00:00   \n",
       "1      585947808772960257 2015-04-08 23:30:18+00:00   \n",
       "2      585947807816650752 2015-04-08 23:30:18+00:00   \n",
       "3      585866060991078401 2015-04-08 18:05:28+00:00   \n",
       "4      585794106170839041 2015-04-08 13:19:33+00:00   \n",
       "...                   ...                       ...   \n",
       "63023  415494259022655489 2013-12-24 14:48:45+00:00   \n",
       "63024  415493351396233216 2013-12-24 14:45:09+00:00   \n",
       "63025  415493203983204352 2013-12-24 14:44:33+00:00   \n",
       "63026  415386956420231169 2013-12-24 07:42:22+00:00   \n",
       "63027  415361763362603008 2013-12-24 06:02:16+00:00   \n",
       "\n",
       "                                                RawTweet     Source  year  \\\n",
       "0      Breast cancer risk test devised http://bbc.in/...  bbchealth  2015   \n",
       "1      GP workload harming care - BMA poll http://bbc...  bbchealth  2015   \n",
       "2      Short people's 'heart risk greater' http://bbc...  bbchealth  2015   \n",
       "3      New approach against HIV 'promising' http://bb...  bbchealth  2015   \n",
       "4      Coalition 'undermined NHS' - doctors http://bb...  bbchealth  2015   \n",
       "...                                                  ...        ...   ...   \n",
       "63023  RT @stefaniei: Addiction and the brain: scient...  wsjhealth  2013   \n",
       "63024  RT @timothywmartin: Ho-ho-hold up! A surprise ...  wsjhealth  2013   \n",
       "63025  RT @stefaniei: Health-Insurance Deadline Exten...  wsjhealth  2013   \n",
       "63026  Boston Scientific Eyes China Expansion http://...  wsjhealth  2013   \n",
       "63027  For Desperate Family in India, a Ray of Hope F...  wsjhealth  2013   \n",
       "\n",
       "                           Links Hashtags  \\\n",
       "0          http://bbc.in/1CimpJF       []   \n",
       "1          http://bbc.in/1ChTBRv       []   \n",
       "2          http://bbc.in/1ChTANp       []   \n",
       "3          http://bbc.in/1E6jAjt       []   \n",
       "4          http://bbc.in/1CnLwK7       []   \n",
       "...                          ...      ...   \n",
       "63023        http://t.co/ThMd9T…       []   \n",
       "63024                              [#aca]   \n",
       "63025  http://on.wsj.com/1cOFtBT       []   \n",
       "63026  http://on.wsj.com/1kBRC4a       []   \n",
       "63027  http://on.wsj.com/1kBFgsB       []   \n",
       "\n",
       "                                    UserMention  \n",
       "0                                            []  \n",
       "1                                            []  \n",
       "2                                            []  \n",
       "3                                            []  \n",
       "4                                            []  \n",
       "...                                         ...  \n",
       "63023                              [@stefaniei]  \n",
       "63024              [@timothywmartin, @cdweaver]  \n",
       "63025  [@stefaniei, @cdweaver, @timothywmartin]  \n",
       "63026                                        []  \n",
       "63027                                        []  \n",
       "\n",
       "[63028 rows x 8 columns]"
      ]
     },
     "execution_count": 6,
     "metadata": {},
     "output_type": "execute_result"
    }
   ],
   "source": [
    "#Extracting user-mentions from the raw tweets\n",
    "tot_df['UserMention']= tot_df['RawTweet'].apply(lambda x: re.findall('(@[A-Za-z0-9]+)', x))\n",
    "tot_df"
   ]
  },
  {
   "cell_type": "markdown",
   "metadata": {},
   "source": [
    "## Cleaning the Data"
   ]
  },
  {
   "cell_type": "code",
   "execution_count": 7,
   "metadata": {},
   "outputs": [],
   "source": [
    "# Remove all links\n",
    "tot_df['Tweet']= tot_df['RawTweet'].apply(lambda x: re.sub(r'(https?://\\S+)','', x).strip())\n",
    "\n",
    "# Remove all hash tags\n",
    "tot_df['Tweet']= tot_df['Tweet'].apply(lambda x: re.sub(r'(#\\w+)','', x.lower()).strip())\n",
    "\n",
    "# Remove all user-mentions\n",
    "tot_df['Tweet']= tot_df['Tweet'].apply(lambda x: re.sub(r'(@[A-Za-z0-9]+)','', x.lower()).strip())\n"
   ]
  },
  {
   "cell_type": "markdown",
   "metadata": {},
   "source": [
    "### Tokenization, Stemming and Lemmantization, Punctuation and Stopwords Removal"
   ]
  },
  {
   "cell_type": "code",
   "execution_count": 8,
   "metadata": {
    "scrolled": true
   },
   "outputs": [
    {
     "name": "stdout",
     "output_type": "stream",
     "text": [
      "['i', 'me', 'my', 'myself', 'we', 'our', 'ours', 'ourselves', 'you', \"you're\", \"you've\", \"you'll\", \"you'd\", 'your', 'yours', 'yourself', 'yourselves', 'he', 'him', 'his', 'himself', 'she', \"she's\", 'her', 'hers', 'herself', 'it', \"it's\", 'its', 'itself', 'they', 'them', 'their', 'theirs', 'themselves', 'what', 'which', 'who', 'whom', 'this', 'that', \"that'll\", 'these', 'those', 'am', 'is', 'are', 'was', 'were', 'be', 'been', 'being', 'have', 'has', 'had', 'having', 'do', 'does', 'did', 'doing', 'a', 'an', 'the', 'and', 'but', 'if', 'or', 'because', 'as', 'until', 'while', 'of', 'at', 'by', 'for', 'with', 'about', 'against', 'between', 'into', 'through', 'during', 'before', 'after', 'above', 'below', 'to', 'from', 'up', 'down', 'in', 'out', 'on', 'off', 'over', 'under', 'again', 'further', 'then', 'once', 'here', 'there', 'when', 'where', 'why', 'how', 'all', 'any', 'both', 'each', 'few', 'more', 'most', 'other', 'some', 'such', 'no', 'nor', 'not', 'only', 'own', 'same', 'so', 'than', 'too', 'very', 's', 't', 'can', 'will', 'just', 'don', \"don't\", 'should', \"should've\", 'now', 'd', 'll', 'm', 'o', 're', 've', 'y', 'ain', 'aren', \"aren't\", 'couldn', \"couldn't\", 'didn', \"didn't\", 'doesn', \"doesn't\", 'hadn', \"hadn't\", 'hasn', \"hasn't\", 'haven', \"haven't\", 'isn', \"isn't\", 'ma', 'mightn', \"mightn't\", 'mustn', \"mustn't\", 'needn', \"needn't\", 'shan', \"shan't\", 'shouldn', \"shouldn't\", 'wasn', \"wasn't\", 'weren', \"weren't\", 'won', \"won't\", 'wouldn', \"wouldn't\", 'rt', 'say', 'may', 'get', 'http', 'link']\n"
     ]
    },
    {
     "name": "stderr",
     "output_type": "stream",
     "text": [
      "[nltk_data] Downloading package wordnet to C:\\Users\\Fresh\n",
      "[nltk_data]     Computers\\AppData\\Roaming\\nltk_data...\n",
      "[nltk_data]   Package wordnet is already up-to-date!\n"
     ]
    }
   ],
   "source": [
    "nltk.download('wordnet')\n",
    "wlem = WordNetLemmatizer()\n",
    "stemmer = PorterStemmer()\n",
    "STOPWORDS = stopwords.words('english')\n",
    "STOPWORDS.extend(['rt','say', 'may','get','http','link'])\n",
    "print(STOPWORDS)\n",
    "\n",
    "def tokenizer_nd_stopwords(text):\n",
    "    text = re.sub('[%s]' % re.escape(string.punctuation),'', text)\n",
    "    tokens =  [wlem.lemmatize(stemmer.stem(w)) for w in text.split()]\n",
    "    tokens_sw = [w for w in tokens if w not  in STOPWORDS]\n",
    "#     return tokens\n",
    "    return' '.join(tokens_sw)"
   ]
  },
  {
   "cell_type": "code",
   "execution_count": 9,
   "metadata": {
    "scrolled": true
   },
   "outputs": [
    {
     "data": {
      "text/html": [
       "<div>\n",
       "<style scoped>\n",
       "    .dataframe tbody tr th:only-of-type {\n",
       "        vertical-align: middle;\n",
       "    }\n",
       "\n",
       "    .dataframe tbody tr th {\n",
       "        vertical-align: top;\n",
       "    }\n",
       "\n",
       "    .dataframe thead th {\n",
       "        text-align: right;\n",
       "    }\n",
       "</style>\n",
       "<table border=\"1\" class=\"dataframe\">\n",
       "  <thead>\n",
       "    <tr style=\"text-align: right;\">\n",
       "      <th></th>\n",
       "      <th>TweetID</th>\n",
       "      <th>Date_Time</th>\n",
       "      <th>RawTweet</th>\n",
       "      <th>Source</th>\n",
       "      <th>year</th>\n",
       "      <th>Links</th>\n",
       "      <th>Hashtags</th>\n",
       "      <th>UserMention</th>\n",
       "      <th>Tweet</th>\n",
       "      <th>TunedTweet</th>\n",
       "    </tr>\n",
       "  </thead>\n",
       "  <tbody>\n",
       "    <tr>\n",
       "      <th>0</th>\n",
       "      <td>585978391360221184</td>\n",
       "      <td>2015-04-09 01:31:50+00:00</td>\n",
       "      <td>Breast cancer risk test devised http://bbc.in/...</td>\n",
       "      <td>bbchealth</td>\n",
       "      <td>2015</td>\n",
       "      <td>http://bbc.in/1CimpJF</td>\n",
       "      <td>[]</td>\n",
       "      <td>[]</td>\n",
       "      <td>breast cancer risk test devised</td>\n",
       "      <td>breast cancer risk test devi</td>\n",
       "    </tr>\n",
       "    <tr>\n",
       "      <th>1</th>\n",
       "      <td>585947808772960257</td>\n",
       "      <td>2015-04-08 23:30:18+00:00</td>\n",
       "      <td>GP workload harming care - BMA poll http://bbc...</td>\n",
       "      <td>bbchealth</td>\n",
       "      <td>2015</td>\n",
       "      <td>http://bbc.in/1ChTBRv</td>\n",
       "      <td>[]</td>\n",
       "      <td>[]</td>\n",
       "      <td>gp workload harming care - bma poll</td>\n",
       "      <td>gp workload harm care bma poll</td>\n",
       "    </tr>\n",
       "    <tr>\n",
       "      <th>2</th>\n",
       "      <td>585947807816650752</td>\n",
       "      <td>2015-04-08 23:30:18+00:00</td>\n",
       "      <td>Short people's 'heart risk greater' http://bbc...</td>\n",
       "      <td>bbchealth</td>\n",
       "      <td>2015</td>\n",
       "      <td>http://bbc.in/1ChTANp</td>\n",
       "      <td>[]</td>\n",
       "      <td>[]</td>\n",
       "      <td>short people's 'heart risk greater'</td>\n",
       "      <td>short peopl heart risk greater</td>\n",
       "    </tr>\n",
       "    <tr>\n",
       "      <th>3</th>\n",
       "      <td>585866060991078401</td>\n",
       "      <td>2015-04-08 18:05:28+00:00</td>\n",
       "      <td>New approach against HIV 'promising' http://bb...</td>\n",
       "      <td>bbchealth</td>\n",
       "      <td>2015</td>\n",
       "      <td>http://bbc.in/1E6jAjt</td>\n",
       "      <td>[]</td>\n",
       "      <td>[]</td>\n",
       "      <td>new approach against hiv 'promising'</td>\n",
       "      <td>new approach hiv promis</td>\n",
       "    </tr>\n",
       "    <tr>\n",
       "      <th>4</th>\n",
       "      <td>585794106170839041</td>\n",
       "      <td>2015-04-08 13:19:33+00:00</td>\n",
       "      <td>Coalition 'undermined NHS' - doctors http://bb...</td>\n",
       "      <td>bbchealth</td>\n",
       "      <td>2015</td>\n",
       "      <td>http://bbc.in/1CnLwK7</td>\n",
       "      <td>[]</td>\n",
       "      <td>[]</td>\n",
       "      <td>coalition 'undermined nhs' - doctors</td>\n",
       "      <td>coalit undermin nh doctor</td>\n",
       "    </tr>\n",
       "    <tr>\n",
       "      <th>...</th>\n",
       "      <td>...</td>\n",
       "      <td>...</td>\n",
       "      <td>...</td>\n",
       "      <td>...</td>\n",
       "      <td>...</td>\n",
       "      <td>...</td>\n",
       "      <td>...</td>\n",
       "      <td>...</td>\n",
       "      <td>...</td>\n",
       "      <td>...</td>\n",
       "    </tr>\n",
       "    <tr>\n",
       "      <th>63023</th>\n",
       "      <td>415494259022655489</td>\n",
       "      <td>2013-12-24 14:48:45+00:00</td>\n",
       "      <td>RT @stefaniei: Addiction and the brain: scient...</td>\n",
       "      <td>wsjhealth</td>\n",
       "      <td>2013</td>\n",
       "      <td>http://t.co/ThMd9T…</td>\n",
       "      <td>[]</td>\n",
       "      <td>[@stefaniei]</td>\n",
       "      <td>rt : addiction and the brain: scientists explo...</td>\n",
       "      <td>addict brain scientist explor stress respons m...</td>\n",
       "    </tr>\n",
       "    <tr>\n",
       "      <th>63024</th>\n",
       "      <td>415493351396233216</td>\n",
       "      <td>2013-12-24 14:45:09+00:00</td>\n",
       "      <td>RT @timothywmartin: Ho-ho-hold up! A surprise ...</td>\n",
       "      <td>wsjhealth</td>\n",
       "      <td>2013</td>\n",
       "      <td></td>\n",
       "      <td>[#aca]</td>\n",
       "      <td>[@timothywmartin, @cdweaver]</td>\n",
       "      <td>rt : ho-ho-hold up! a surprise gift for health...</td>\n",
       "      <td>hohohold surpris gift health insur monday wa o...</td>\n",
       "    </tr>\n",
       "    <tr>\n",
       "      <th>63025</th>\n",
       "      <td>415493203983204352</td>\n",
       "      <td>2013-12-24 14:44:33+00:00</td>\n",
       "      <td>RT @stefaniei: Health-Insurance Deadline Exten...</td>\n",
       "      <td>wsjhealth</td>\n",
       "      <td>2013</td>\n",
       "      <td>http://on.wsj.com/1cOFtBT</td>\n",
       "      <td>[]</td>\n",
       "      <td>[@stefaniei, @cdweaver, @timothywmartin]</td>\n",
       "      <td>rt : health-insurance deadline extended in lat...</td>\n",
       "      <td>healthinsur deadlin extend late push boost number</td>\n",
       "    </tr>\n",
       "    <tr>\n",
       "      <th>63026</th>\n",
       "      <td>415386956420231169</td>\n",
       "      <td>2013-12-24 07:42:22+00:00</td>\n",
       "      <td>Boston Scientific Eyes China Expansion http://...</td>\n",
       "      <td>wsjhealth</td>\n",
       "      <td>2013</td>\n",
       "      <td>http://on.wsj.com/1kBRC4a</td>\n",
       "      <td>[]</td>\n",
       "      <td>[]</td>\n",
       "      <td>boston scientific eyes china expansion</td>\n",
       "      <td>boston scientif eye china expans</td>\n",
       "    </tr>\n",
       "    <tr>\n",
       "      <th>63027</th>\n",
       "      <td>415361763362603008</td>\n",
       "      <td>2013-12-24 06:02:16+00:00</td>\n",
       "      <td>For Desperate Family in India, a Ray of Hope F...</td>\n",
       "      <td>wsjhealth</td>\n",
       "      <td>2013</td>\n",
       "      <td>http://on.wsj.com/1kBFgsB</td>\n",
       "      <td>[]</td>\n",
       "      <td>[]</td>\n",
       "      <td>for desperate family in india, a ray of hope f...</td>\n",
       "      <td>desper famili india ray hope alabama</td>\n",
       "    </tr>\n",
       "  </tbody>\n",
       "</table>\n",
       "<p>63028 rows × 10 columns</p>\n",
       "</div>"
      ],
      "text/plain": [
       "                  TweetID                 Date_Time  \\\n",
       "0      585978391360221184 2015-04-09 01:31:50+00:00   \n",
       "1      585947808772960257 2015-04-08 23:30:18+00:00   \n",
       "2      585947807816650752 2015-04-08 23:30:18+00:00   \n",
       "3      585866060991078401 2015-04-08 18:05:28+00:00   \n",
       "4      585794106170839041 2015-04-08 13:19:33+00:00   \n",
       "...                   ...                       ...   \n",
       "63023  415494259022655489 2013-12-24 14:48:45+00:00   \n",
       "63024  415493351396233216 2013-12-24 14:45:09+00:00   \n",
       "63025  415493203983204352 2013-12-24 14:44:33+00:00   \n",
       "63026  415386956420231169 2013-12-24 07:42:22+00:00   \n",
       "63027  415361763362603008 2013-12-24 06:02:16+00:00   \n",
       "\n",
       "                                                RawTweet     Source  year  \\\n",
       "0      Breast cancer risk test devised http://bbc.in/...  bbchealth  2015   \n",
       "1      GP workload harming care - BMA poll http://bbc...  bbchealth  2015   \n",
       "2      Short people's 'heart risk greater' http://bbc...  bbchealth  2015   \n",
       "3      New approach against HIV 'promising' http://bb...  bbchealth  2015   \n",
       "4      Coalition 'undermined NHS' - doctors http://bb...  bbchealth  2015   \n",
       "...                                                  ...        ...   ...   \n",
       "63023  RT @stefaniei: Addiction and the brain: scient...  wsjhealth  2013   \n",
       "63024  RT @timothywmartin: Ho-ho-hold up! A surprise ...  wsjhealth  2013   \n",
       "63025  RT @stefaniei: Health-Insurance Deadline Exten...  wsjhealth  2013   \n",
       "63026  Boston Scientific Eyes China Expansion http://...  wsjhealth  2013   \n",
       "63027  For Desperate Family in India, a Ray of Hope F...  wsjhealth  2013   \n",
       "\n",
       "                           Links Hashtags  \\\n",
       "0          http://bbc.in/1CimpJF       []   \n",
       "1          http://bbc.in/1ChTBRv       []   \n",
       "2          http://bbc.in/1ChTANp       []   \n",
       "3          http://bbc.in/1E6jAjt       []   \n",
       "4          http://bbc.in/1CnLwK7       []   \n",
       "...                          ...      ...   \n",
       "63023        http://t.co/ThMd9T…       []   \n",
       "63024                              [#aca]   \n",
       "63025  http://on.wsj.com/1cOFtBT       []   \n",
       "63026  http://on.wsj.com/1kBRC4a       []   \n",
       "63027  http://on.wsj.com/1kBFgsB       []   \n",
       "\n",
       "                                    UserMention  \\\n",
       "0                                            []   \n",
       "1                                            []   \n",
       "2                                            []   \n",
       "3                                            []   \n",
       "4                                            []   \n",
       "...                                         ...   \n",
       "63023                              [@stefaniei]   \n",
       "63024              [@timothywmartin, @cdweaver]   \n",
       "63025  [@stefaniei, @cdweaver, @timothywmartin]   \n",
       "63026                                        []   \n",
       "63027                                        []   \n",
       "\n",
       "                                                   Tweet  \\\n",
       "0                        breast cancer risk test devised   \n",
       "1                    gp workload harming care - bma poll   \n",
       "2                    short people's 'heart risk greater'   \n",
       "3                   new approach against hiv 'promising'   \n",
       "4                   coalition 'undermined nhs' - doctors   \n",
       "...                                                  ...   \n",
       "63023  rt : addiction and the brain: scientists explo...   \n",
       "63024  rt : ho-ho-hold up! a surprise gift for health...   \n",
       "63025  rt : health-insurance deadline extended in lat...   \n",
       "63026             boston scientific eyes china expansion   \n",
       "63027  for desperate family in india, a ray of hope f...   \n",
       "\n",
       "                                              TunedTweet  \n",
       "0                           breast cancer risk test devi  \n",
       "1                         gp workload harm care bma poll  \n",
       "2                         short peopl heart risk greater  \n",
       "3                                new approach hiv promis  \n",
       "4                              coalit undermin nh doctor  \n",
       "...                                                  ...  \n",
       "63023  addict brain scientist explor stress respons m...  \n",
       "63024  hohohold surpris gift health insur monday wa o...  \n",
       "63025  healthinsur deadlin extend late push boost number  \n",
       "63026                   boston scientif eye china expans  \n",
       "63027               desper famili india ray hope alabama  \n",
       "\n",
       "[63028 rows x 10 columns]"
      ]
     },
     "execution_count": 9,
     "metadata": {},
     "output_type": "execute_result"
    }
   ],
   "source": [
    "tot_df['TunedTweet']= tot_df['Tweet'].apply(lambda s: tokenizer_nd_stopwords(s))\n",
    "tot_df"
   ]
  },
  {
   "cell_type": "markdown",
   "metadata": {},
   "source": [
    "# Data Exploratory Phase"
   ]
  },
  {
   "cell_type": "markdown",
   "metadata": {},
   "source": [
    "## Hashtags Analysis"
   ]
  },
  {
   "cell_type": "code",
   "execution_count": 10,
   "metadata": {},
   "outputs": [
    {
     "data": {
      "text/plain": [
       "Index(['KaiserHealthNews', 'NBChealth', 'bbchealth', 'cbchealth', 'cnnhealth',\n",
       "       'everydayhealth', 'foxnewshealth', 'gdnhealthcare', 'goodhealth',\n",
       "       'latimeshealth', 'msnhealthnews', 'nprhealth', 'nytimeshealth',\n",
       "       'reuters_health', 'usnewshealth', 'wsjhealth'],\n",
       "      dtype='object', name='Source')"
      ]
     },
     "execution_count": 10,
     "metadata": {},
     "output_type": "execute_result"
    }
   ],
   "source": [
    "#Group Hashtags by source\n",
    "hash_groups = pd.DataFrame(tot_df.groupby(['Source'])['Hashtags'].sum())\n",
    "type(hash_groups.loc['KaiserHealthNews'])\n",
    "hash_groups.transpose().columns"
   ]
  },
  {
   "cell_type": "code",
   "execution_count": 11,
   "metadata": {
    "scrolled": true
   },
   "outputs": [
    {
     "data": {
      "image/png": "[encoded data removed]",
      "text/plain": [
       "<Figure size 432x288 with 1 Axes>"
      ]
     },
     "metadata": {
      "needs_background": "light"
     },
     "output_type": "display_data"
    },
    {
     "data": {
      "image/png": "[encoded data removed]",
      "text/plain": [
       "<Figure size 432x288 with 1 Axes>"
      ]
     },
     "metadata": {
      "needs_background": "light"
     },
     "output_type": "display_data"
    },
    {
     "data": {
      "image/png": "[encoded data removed]",
      "text/plain": [
       "<Figure size 432x288 with 1 Axes>"
      ]
     },
     "metadata": {
      "needs_background": "light"
     },
     "output_type": "display_data"
    },
    {
     "data": {
      "image/png": "[encoded data removed]",
      "text/plain": [
       "<Figure size 432x288 with 1 Axes>"
      ]
     },
     "metadata": {
      "needs_background": "light"
     },
     "output_type": "display_data"
    },
    {
     "data": {
      "image/png": "[encoded data removed]",
      "text/plain": [
       "<Figure size 432x288 with 1 Axes>"
      ]
     },
     "metadata": {
      "needs_background": "light"
     },
     "output_type": "display_data"
    },
    {
     "data": {
      "image/png": "[encoded data removed]",
      "text/plain": [
       "<Figure size 432x288 with 1 Axes>"
      ]
     },
     "metadata": {
      "needs_background": "light"
     },
     "output_type": "display_data"
    },
    {
     "data": {
      "image/png": "[encoded data removed]",
      "text/plain": [
       "<Figure size 432x288 with 1 Axes>"
      ]
     },
     "metadata": {
      "needs_background": "light"
     },
     "output_type": "display_data"
    },
    {
     "data": {
      "image/png": "[encoded data removed]",
      "text/plain": [
       "<Figure size 432x288 with 1 Axes>"
      ]
     },
     "metadata": {
      "needs_background": "light"
     },
     "output_type": "display_data"
    },
    {
     "data": {
      "image/png": "[encoded data removed]",
      "text/plain": [
       "<Figure size 432x288 with 1 Axes>"
      ]
     },
     "metadata": {
      "needs_background": "light"
     },
     "output_type": "display_data"
    },
    {
     "data": {
      "image/png": "[encoded data removed]",
      "text/plain": [
       "<Figure size 432x288 with 1 Axes>"
      ]
     },
     "metadata": {
      "needs_background": "light"
     },
     "output_type": "display_data"
    },
    {
     "data": {
      "image/png": "[encoded data removed]",
      "text/plain": [
       "<Figure size 432x288 with 1 Axes>"
      ]
     },
     "metadata": {
      "needs_background": "light"
     },
     "output_type": "display_data"
    },
    {
     "data": {
      "image/png": "[encoded data removed]",
      "text/plain": [
       "<Figure size 432x288 with 1 Axes>"
      ]
     },
     "metadata": {
      "needs_background": "light"
     },
     "output_type": "display_data"
    },
    {
     "data": {
      "image/png": "[encoded data removed]",
      "text/plain": [
       "<Figure size 432x288 with 1 Axes>"
      ]
     },
     "metadata": {
      "needs_background": "light"
     },
     "output_type": "display_data"
    },
    {
     "data": {
      "image/png": "[encoded data removed]",
      "text/plain": [
       "<Figure size 432x288 with 1 Axes>"
      ]
     },
     "metadata": {
      "needs_background": "light"
     },
     "output_type": "display_data"
    }
   ],
   "source": [
    "for source in hash_groups.index:\n",
    "#     print(source)\n",
    "    hashtags = hash_groups.loc[source].apply(lambda x: pd.value_counts(x)).sum(axis=0).to_frame().reset_index().sort_values(by=0,ascending=False)\n",
    "    hashtags.columns = ['hashtag','occurences']\n",
    "    if not hashtags.empty:\n",
    "        hashtags[:10].plot(kind='bar', x='hashtag', title='Top 10 Hashtags for ' + source)"
   ]
  },
  {
   "cell_type": "code",
   "execution_count": null,
   "metadata": {},
   "outputs": [],
   "source": [
    "Allhashtags = tot_df['Hashtags'].apply(lambda x: pd.value_counts(x)).sum(axis=0).to_frame().reset_index().sort_values(by=0,ascending=False)\n",
    "Allhashtags.columns = ['hashtag','occurences']\n",
    "Allhashtags.head()\n",
    "Allhashtags[:20].plot(kind='bar', x='hashtag', title='Top 20 Hashtags over all sources')\n",
    "Allhashtags[:20]"
   ]
  },
  {
   "cell_type": "markdown",
   "metadata": {},
   "source": [
    "### Trending Hashtags Plot by Year"
   ]
  },
  {
   "cell_type": "code",
   "execution_count": null,
   "metadata": {
    "scrolled": true
   },
   "outputs": [],
   "source": [
    "date_data= tot_df.groupby(['year'])['Hashtags'].sum().apply(lambda x : ', '.join(x))\n",
    "date_data = pd.DataFrame(date_data)\n",
    "date_data"
   ]
  },
  {
   "cell_type": "code",
   "execution_count": null,
   "metadata": {},
   "outputs": [],
   "source": [
    "# Visualization with wordcloud\n",
    "wc = WordCloud(\n",
    "    max_words=200,\n",
    "    stopwords='english',\n",
    "    random_state=42,\n",
    "    background_color='white',\n",
    "    max_font_size=150,\n",
    "    colormap=\"Dark2\",\n",
    "    )\n",
    "\n",
    "plt.rcParams['figure.figsize'] = [20,8]\n",
    "\n",
    "title=list(date_data.index)\n",
    "\n",
    "# Create subplots for each channel\n",
    "for index, year in enumerate(date_data.index):\n",
    "    wc.generate(date_data.Hashtags[year])\n",
    "    \n",
    "    plt.subplot(2, 3, index+1)\n",
    "    plt.imshow(wc, interpolation= 'bilinear')\n",
    "    plt.axis(\"off\")\n",
    "    plt.title(title[index])"
   ]
  },
  {
   "cell_type": "markdown",
   "metadata": {},
   "source": [
    "## User Mention Analysis"
   ]
  },
  {
   "cell_type": "code",
   "execution_count": null,
   "metadata": {
    "scrolled": true
   },
   "outputs": [],
   "source": [
    "#Group UserMention by source\n",
    "user_groups = pd.DataFrame(tot_df.groupby(['Source'])['UserMention'].sum())\n",
    "type(user_groups.loc['KaiserHealthNews'])\n",
    "\n",
    "for source in user_groups.index:\n",
    "    users = user_groups.loc[source].apply(lambda x: pd.value_counts(x)).sum(axis=0).to_frame().reset_index().sort_values(by=0,ascending=False)\n",
    "    users.columns = ['users','occurences']\n",
    "    if not users.empty:\n",
    "        users[:10].plot(kind='bar', x='users', title='Top 10 users for ' + source)"
   ]
  },
  {
   "cell_type": "code",
   "execution_count": null,
   "metadata": {},
   "outputs": [],
   "source": [
    "AllUsers = tot_df['UserMention'].apply(lambda x: pd.value_counts(x)).sum(axis=0).to_frame().reset_index().sort_values(by=0,ascending=False)\n",
    "AllUsers.columns = ['users','occurences']\n",
    "AllUsers[:10].plot(kind='bar', x='users', title='Top 10 users over all sources')\n",
    "AllUsers.head()"
   ]
  },
  {
   "cell_type": "markdown",
   "metadata": {},
   "source": [
    "### Word Occurence"
   ]
  },
  {
   "cell_type": "code",
   "execution_count": null,
   "metadata": {},
   "outputs": [],
   "source": [
    "#Words occurence for each sources\n",
    "groups = pd.DataFrame(tot_df.groupby(['Source'])['TunedTweet'].sum())\n",
    "print(groups)\n",
    "\n",
    "\n",
    "\n",
    "for source in groups.index:\n",
    "    words = groups.loc[source].dropna()\\\n",
    "                            .apply(lambda y: pd.value_counts(y.split()))\\\n",
    "                            .sum(axis=0)\\\n",
    "                            .to_frame()\\\n",
    "                            .reset_index()\\\n",
    "                            .sort_values(by=0,ascending=False)\n",
    "    words.columns = ['word','occurences']\n",
    "    words[:10].plot(kind='bar',x = 'word', title='Top 10 Word occurence plot for '+source)\n"
   ]
  },
  {
   "cell_type": "markdown",
   "metadata": {},
   "source": [
    "## Visualization with wordcloud"
   ]
  },
  {
   "cell_type": "markdown",
   "metadata": {},
   "source": [
    "### Most tweeted words by Year"
   ]
  },
  {
   "cell_type": "code",
   "execution_count": null,
   "metadata": {},
   "outputs": [],
   "source": [
    "date_tweets= tot_df.groupby(['year'])['TunedTweet'].sum()\n",
    "date_tweets = pd.DataFrame(date_tweets)\n",
    "date_tweets"
   ]
  },
  {
   "cell_type": "code",
   "execution_count": null,
   "metadata": {},
   "outputs": [],
   "source": [
    "wc = WordCloud(\n",
    "    stopwords='english',\n",
    "    random_state=42,\n",
    "    background_color='white',\n",
    "    max_font_size=150,\n",
    "    colormap=\"Dark2\")\n",
    "\n",
    "plt.rcParams['figure.figsize'] = [20,8]\n",
    "\n",
    "title=list(date_tweets.index)\n",
    "\n",
    "# Create subplots for each channel\n",
    "for index, year in enumerate(date_tweets.index):\n",
    "    wc.generate(date_tweets.TunedTweet[year])\n",
    "    plt.subplot(2, 3, index+1)\n",
    "    plt.imshow(wc, interpolation= 'bilinear')\n",
    "    plt.axis(\"off\")\n",
    "    plt.title(title[index])"
   ]
  },
  {
   "cell_type": "code",
   "execution_count": null,
   "metadata": {},
   "outputs": [],
   "source": [
    "# Visualization with wordcloud\n",
    "wc = WordCloud(\n",
    "    stopwords=STOPWORDS,\n",
    "    random_state=42,\n",
    "    background_color='white',\n",
    "    max_font_size=200,\n",
    "    colormap=\"Dark2\",\n",
    "    )\n",
    "\n",
    "\n",
    "plt.rcParams['figure.figsize'] = [20,8]\n",
    "\n",
    "title=list(groups.index)\n",
    "\n",
    "# Create subplots for each channel\n",
    "for index, source in enumerate(groups.index):\n",
    "    wordString = groups.loc[source].TunedTweet\n",
    "    wc.generate(wordString)\n",
    "    plt.subplot(4, 4, index+1)\n",
    "    plt.imshow(wc, interpolation= 'bilinear')\n",
    "    plt.axis(\"off\")\n",
    "    plt.title(title[index])\n",
    "\n"
   ]
  },
  {
   "cell_type": "markdown",
   "metadata": {},
   "source": [
    "### Most Tweeted Words"
   ]
  },
  {
   "cell_type": "code",
   "execution_count": null,
   "metadata": {},
   "outputs": [],
   "source": [
    "words = groups['TunedTweet'].dropna()\\\n",
    "                            .apply(lambda y: pd.value_counts(y.split()))\\\n",
    "                            .sum(axis=0)\\\n",
    "                            .to_frame()\\\n",
    "                            .reset_index()\\\n",
    "                            .sort_values(by=0,ascending=False)\n",
    "words.columns = ['word','occurences']\n",
    "words[:10].plot(kind='bar',x = 'word')\n",
    "words.head()\n",
    "\n",
    "\n",
    "\n",
    "all_tweets = groups['TunedTweet'].apply(lambda x: ''.join(x)).str.cat(sep=' ')\n",
    "plt.figure(figsize=(12,12))\n",
    "\n",
    "wordcloud = WordCloud(stopwords=STOPWORDS,\n",
    "                      background_color='white',\n",
    "                      colormap=\"Dark2\",\n",
    "                      collocations=False,\n",
    "                      width=1200,\n",
    "                      height=1000\n",
    "                     ).generate(all_tweets)\n",
    "plt.axis('off')\n",
    "plt.imshow(wordcloud)"
   ]
  },
  {
   "cell_type": "code",
   "execution_count": null,
   "metadata": {},
   "outputs": [],
   "source": [
    "# test = ' '.join(groups.index)\n",
    "\n",
    "# wordcloud = WordCloud(stopwords=STOPWORDS,\n",
    "#                       background_color='white',\n",
    "#                       colormap=\"Dark2\",\n",
    "#                       collocations=False,\n",
    "#                       width=1200,\n",
    "#                       height=1000\n",
    "#                      ).generate(test)\n",
    "# plt.axis('off')\n",
    "# plt.imshow(wordcloud)"
   ]
  },
  {
   "cell_type": "markdown",
   "metadata": {},
   "source": [
    "## Bigrams: Two most common words"
   ]
  },
  {
   "cell_type": "code",
   "execution_count": null,
   "metadata": {},
   "outputs": [],
   "source": [
    "from nltk import bigrams\n",
    "\n",
    "all_tweets_list = all_tweets.split()\n",
    "bigramseries = (pd.Series(nltk.ngrams(all_tweets_list, 2)).value_counts())\n",
    "bigramseries[:10]\n"
   ]
  },
  {
   "cell_type": "code",
   "execution_count": null,
   "metadata": {},
   "outputs": [],
   "source": [
    "# bigramseries.plot(kind='bar')\n",
    "plt.suptitle('Top 10 Bigrams for keyword', fontsize=18)\n",
    "bigramseries[:10].plot(kind='bar')"
   ]
  },
  {
   "cell_type": "markdown",
   "metadata": {},
   "source": [
    "# Unsupervised Learning: Data Clustering"
   ]
  },
  {
   "cell_type": "markdown",
   "metadata": {},
   "source": [
    "## Term Frequency-Inverse Document Frequency (TF-IDF)"
   ]
  },
  {
   "cell_type": "code",
   "execution_count": null,
   "metadata": {
    "scrolled": true
   },
   "outputs": [],
   "source": [
    "tot_df['TunedTweet']"
   ]
  },
  {
   "cell_type": "code",
   "execution_count": null,
   "metadata": {},
   "outputs": [],
   "source": [
    "n=100\n",
    "print(' ')\n",
    "print(f\"The {n} most occuring words in tweet\")\n",
    "tf_idf_vect = tfi(stop_words = STOPWORDS, max_features = n)\n",
    "\n",
    "x = tot_df['TunedTweet']\n",
    "\n",
    "tf_idf = tf_idf_vect.fit_transform(x)\n",
    "tf_idf_norm = normalize(tf_idf)\n",
    "tf_idf_array = tf_idf_norm.toarray()\n",
    "\n",
    "vector = pd.DataFrame(tf_idf_array,\n",
    "                     columns = tf_idf_vect.get_feature_names())\n",
    "vector"
   ]
  },
  {
   "cell_type": "code",
   "execution_count": null,
   "metadata": {},
   "outputs": [],
   "source": [
    "vector.describe()"
   ]
  },
  {
   "cell_type": "markdown",
   "metadata": {},
   "source": [
    "## K-Means Clustering"
   ]
  },
  {
   "cell_type": "code",
   "execution_count": null,
   "metadata": {},
   "outputs": [],
   "source": [
    "#Convert to 2 feature using PCA\n",
    "sklearn_pca = PCA(n_components = 2)\n",
    "Y_sklearn = sklearn_pca.fit_transform(tf_idf_array)\n",
    "\n",
    "\n",
    "#find out ideal number of clusters using Elbow Method\n",
    "num_clusters = range(1, 7)\n",
    "\n",
    "kmeans = [KMeans(n_clusters=i, max_iter = 600) for i in num_clusters]\n",
    "print(kmeans[1])\n",
    "\n",
    "score = [kmeans[i].fit(Y_sklearn).score(Y_sklearn) for i in range(len(kmeans))]\n",
    "print(score)\n",
    "\n",
    "plt.plot(num_clusters, score)\n",
    "plt.xlabel('# of Clusters')\n",
    "plt.ylabel('Score')\n",
    "plt.title('Elbow Method')\n",
    "plt.show()\n"
   ]
  },
  {
   "cell_type": "markdown",
   "metadata": {},
   "source": [
    "### Silhoutte Score"
   ]
  },
  {
   "cell_type": "code",
   "execution_count": null,
   "metadata": {
    "scrolled": true
   },
   "outputs": [],
   "source": [
    "from yellowbrick.cluster import SilhouetteVisualizer\n",
    "from sklearn.metrics import silhouette_score\n",
    "\n",
    "\n",
    "fig, ax = plt.subplots(2, 2, figsize=(15,8))\n",
    "for i in [3,5]:\n",
    "    n = i-1\n",
    "    print(\"---------------------------------------\")\n",
    "    print(kmeans[n])\n",
    "    print(\"Silhouette score:\",silhouette_score(Y_sklearn, kmeans[n].predict(Y_sklearn)))\n",
    "    '''\n",
    "    Create SilhouetteVisualizer instance with KMeans instance\n",
    "    Fit the visualizer\n",
    "    '''\n",
    "    q, mod = divmod(i, 2)\n",
    "    visualizer = SilhouetteVisualizer(kmeans[n], colors='yellowbrick', ax=ax[q-1][mod])\n",
    "    visualizer.fit(Y_sklearn)\n",
    "    "
   ]
  },
  {
   "cell_type": "code",
   "execution_count": null,
   "metadata": {},
   "outputs": [],
   "source": [
    "true_k = 3\n",
    "kmeans = KMeans(n_clusters=true_k, max_iter=600, algorithm = 'auto')\n",
    "fitted = kmeans.fit(Y_sklearn)\n",
    "prediction = kmeans.predict(Y_sklearn)\n",
    "\n",
    "skcenters = fitted.cluster_centers_\n",
    "\n",
    "plt.scatter(Y_sklearn[:, 0], Y_sklearn[:, 1], c=prediction, s=50, cmap='viridis')\n",
    "plt.scatter(skcenters[:, 0], skcenters[:, 1], c='black', s=300, alpha=0.5)"
   ]
  },
  {
   "cell_type": "code",
   "execution_count": null,
   "metadata": {},
   "outputs": [],
   "source": [
    "# function that identifies the features with the highest mean tf_idf \n",
    "# scores across each cluster\n",
    "def get_top_feats_cluster(tf_idf_array, prediction, n_feats):\n",
    "    labels = np.unique(prediction)\n",
    "    dfs = []\n",
    "    for label in labels:\n",
    "        id_temp = np.where(prediction==label) # indices for each cluster\n",
    "        x_means = np.mean(tf_idf_array[id_temp], axis = 0) # returns average score across cluster\n",
    "        sorted_means = np.argsort(x_means)[::-1][:n_feats] # indices with top 20 scores\n",
    "        feats = tf_idf_vect.get_feature_names()\n",
    "        best_feats = [(feats[i], x_means[i]) for i in sorted_means]\n",
    "        df = pd.DataFrame(best_feats, columns = ['features', 'score'])\n",
    "        dfs.append(df)\n",
    "    return dfs\n",
    "\n",
    "dfs = get_top_feats_cluster(tf_idf_array, prediction, 15)"
   ]
  },
  {
   "cell_type": "code",
   "execution_count": null,
   "metadata": {
    "scrolled": false
   },
   "outputs": [],
   "source": [
    "for i in range(true_k):\n",
    "    plt.figure(figsize=(8,6))\n",
    "    sns.barplot(x='score', y='features',data=dfs[i][:15]);"
   ]
  },
  {
   "cell_type": "code",
   "execution_count": null,
   "metadata": {},
   "outputs": [],
   "source": [
    "def plot_features(dfs):\n",
    "    fig = plt.figure(figsize=(14,12))\n",
    "    x = np.arange(len(dfs[0]))\n",
    "    for i, df in enumerate(dfs):\n",
    "        ax = fig.add_subplot(1, len(dfs), i+1)\n",
    "        ax.set_title('Cluster:' + str(i), fontsize=14)\n",
    "        ax.spines['top'].set_visible(False)\n",
    "        ax.spines['right'].set_visible(False)\n",
    "        ax.set_frame_on(False)\n",
    "        ax.get_xaxis().tick_bottom()\n",
    "        ax.get_yaxis().tick_left()\n",
    "        ax.ticklabel_format(axis='x', style='sci', scilimits=(-2,2))\n",
    "        ax.barh(x, df.score, align='center', color='purple')\n",
    "        yticks = ax.set_yticklabels(df.features)\n",
    "    plt.show();\n",
    "plot_features(dfs)"
   ]
  },
  {
   "cell_type": "code",
   "execution_count": null,
   "metadata": {},
   "outputs": [],
   "source": []
  }
 ],
 "metadata": {
  "kernelspec": {
   "display_name": "Python 3",
   "language": "python",
   "name": "python3"
  },
  "language_info": {
   "codemirror_mode": {
    "name": "ipython",
    "version": 3
   },
   "file_extension": ".py",
   "mimetype": "text/x-python",
   "name": "python",
   "nbconvert_exporter": "python",
   "pygments_lexer": "ipython3",
   "version": "3.7.6"
  }
 },
 "nbformat": 4,
 "nbformat_minor": 5
}
